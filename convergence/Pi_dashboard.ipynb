{
 "cells": [
  {
   "cell_type": "code",
   "execution_count": 1,
   "id": "48c6eda8-1add-4865-b72d-91860ef4b5eb",
   "metadata": {},
   "outputs": [],
   "source": [
    "supress_warnings = True                                   # supress warnings?\n",
    "import numpy as np                                        # ndarrys for gridded data\n",
    "import matplotlib.pyplot as plt                           # for plotting\n",
    "import math\n",
    "from matplotlib.ticker import (MultipleLocator, AutoMinorLocator) # control of axes ticks\n",
    "from scipy import stats                                   # summary statistics\n",
    "from ipywidgets import interactive                        # widgets and interactivity\n",
    "from ipywidgets import widgets                            \n",
    "from ipywidgets import Layout\n",
    "from ipywidgets import Label\n",
    "from ipywidgets import VBox, HBox\n",
    "cmap = plt.cm.inferno                                     # default color bar, no bias and friendly for color vision defeciency\n",
    "plt.rc('axes', axisbelow=True)                            # grid behind plotting elements\n",
    "if supress_warnings == True:\n",
    "    import warnings                                       # supress any warnings for this demonstration\n",
    "    warnings.filterwarnings('ignore')                  \n",
    "\n",
    "def add_grid(sub_plot):\n",
    "    sub_plot.grid(True, which='major',linewidth = 1.0); sub_plot.grid(True, which='minor',linewidth = 0.2) # add y grids\n",
    "    sub_plot.tick_params(which='major',length=7); sub_plot.tick_params(which='minor', length=4)\n",
    "    sub_plot.xaxis.set_minor_locator(AutoMinorLocator()); sub_plot.yaxis.set_minor_locator(AutoMinorLocator()) # turn on minor ticks   \n",
    "    \n",
    "def isotropic_spherical_variogram(x1,y1,x2,y2,r):\n",
    "    dist = np.sqrt((x1-x2)**2 + (y1-y2)**2)\n",
    "    ones = np.ones(len(x1))\n",
    "    gamma = np.where(dist >= r,ones,3/2*(dist/r)-0.5*(dist/r)**3)\n",
    "    return gamma\n",
    "\n",
    "def rotation(tail,head):\n",
    "    return np.arctan2(tail,head)*180.0/math.pi\n",
    "\n",
    "title = widgets.Text(value='                     Monte Carlo Method to Estimate Ratio Circle Incribed in a Square Demonstration, Michael Pyrcz, Professor, The University of Texas at Austin',layout=Layout(width='950px', height='30px'))\n",
    "\n",
    "l = widgets.FloatSlider(min=0, max = 5, step = 0.1, value = 0.3, description = '$log(l)$:',orientation='horizontal',layout=Layout(width='750px', height='50px'),continuous_update=False)\n",
    "l.style.handle_color = 'gray'\n",
    "\n",
    "ui = widgets.HBox([l],kwargs = {'justify_content':'center'})\n",
    "ui2 = widgets.VBox([title,ui],)\n",
    "\n",
    "def f_make2(l): \n",
    "    L = 100000; radius = 50; cx = 50; cy = 50; seed = 73071\n",
    "    \n",
    "    i = int(10**l)\n",
    "    np.random.seed(seed=seed)\n",
    "    pts = np.random.rand(L,2)*100\n",
    "    pts_l = pts[:i]\n",
    "    dist = (pts[:,0]-50)**2 + (pts[:,1]-50)**2\n",
    "    dist_l = (pts_l[:,0]-50)**2 + (pts_l[:,1]-50)**2\n",
    "    inside = dist < (radius * radius)\n",
    "    inside_l = dist_l < (radius * radius)\n",
    "    \n",
    "    counts = np.arange(1,len(inside)+1,1)\n",
    "    prop = np.cumsum(inside, axis=0, dtype=None, out=None)/np.arange(1,len(inside)+1,1)\n",
    "    truth = math.pi/4\n",
    "    \n",
    "    ax1 = plt.subplot(121)\n",
    "    \n",
    "    plt.scatter(pts_l[inside_l,0],pts_l[inside_l,1],color='red',edgecolor='black',zorder=10)\n",
    "    plt.scatter(pts_l[inside_l==False,0],pts_l[inside_l==False,1],color='gray',edgecolor='black',zorder=10)\n",
    "    plt.scatter(50,50,marker='x',c='black',s=80,zorder=1)\n",
    "    \n",
    "    circle1 = plt.Circle((50, 50),radius,fill=False,edgecolor='black',zorder=1)\n",
    "    plt.plot([52,50+radius-1],[50,50],c='black',lw=1)\n",
    "    plt.gca().add_patch(circle1)\n",
    "    \n",
    "    plt.gca().add_patch(plt.Rectangle((0, 0), 100, 100, fill=False,edgecolor='black',lw=2))\n",
    "    \n",
    "    head = plt.Polygon([[cx+radius-1,cy-1],[cx+radius-1,cy+1],[cx+radius,cy],[cx+radius-1,cy-1]], color='black',alpha = 1.0,zorder=1)\n",
    "    plt.gca().add_patch(head)\n",
    "    plt.xlim([-10,110]); plt.ylim([-10,110]); add_grid(ax1); plt.xlabel(\"X (m)\"); plt.ylabel(\"Y (m)\") \n",
    "    plt.title('Ratio of Circle Inscribed Within Square')\n",
    "    \n",
    "    ax2 = plt.subplot(122)\n",
    "    plt.plot(counts,prop,c='gray',zorder=1)\n",
    "    plt.plot([0,L],[truth,truth],c='red',zorder=3); plt.annotate('Exact Solution',[2,truth+0.01],c='red')\n",
    "    plt.scatter(counts[:i-1],prop[:i-1],c='gray',edgecolor='black',s=30,zorder=9);\n",
    "    plt.scatter(counts[i-1],prop[i-1],c='red',edgecolor='black',s=30,zorder=10); add_grid(ax2)\n",
    "    plt.ylim([0.0,1.3]); plt.xlim([1,100000]); plt.xscale(\"log\"); plt.xlabel(\"Number of Samples\"); plt.ylabel(\"Cumulative Proportion\"); plt.title('Monte Carlo Geometric Ratio')\n",
    "    \n",
    "    plt.subplots_adjust(left=0.0, bottom=0.0, right=2.0, top=1.3, wspace=0.3, hspace=0.2); plt.show()\n",
    "    \n",
    "interactive_plot2 = widgets.interactive_output(f_make2, {'l':l})\n",
    "interactive_plot2.clear_output(wait = True)                # reduce flickering by delaying plot updating     "
   ]
  },
  {
   "cell_type": "code",
   "execution_count": 2,
   "id": "a57a4f42-5215-47c0-b8b0-6f3729ed3020",
   "metadata": {},
   "outputs": [
    {
     "data": {
      "application/vnd.jupyter.widget-view+json": {
       "model_id": "3b84771abeb649dcb90ea01996ca6813",
       "version_major": 2,
       "version_minor": 0
      },
      "text/plain": [
       "VBox(children=(Text(value='                     Monte Carlo Method to Estimate Ratio Circle Incribed in a Squa…"
      ]
     },
     "metadata": {},
     "output_type": "display_data"
    },
    {
     "data": {
      "application/vnd.jupyter.widget-view+json": {
       "model_id": "e31e532abe444cf9aeeb881c23457493",
       "version_major": 2,
       "version_minor": 0
      },
      "text/plain": [
       "Output()"
      ]
     },
     "metadata": {},
     "output_type": "display_data"
    }
   ],
   "source": [
    "display(ui2, interactive_plot2)"
   ]
  },
  {
   "cell_type": "code",
   "execution_count": null,
   "id": "4f734c3b-2b68-4fff-995b-65d0766516d1",
   "metadata": {},
   "outputs": [],
   "source": []
  }
 ],
 "metadata": {
  "kernelspec": {
   "display_name": "Python 3 (ipykernel)",
   "language": "python",
   "name": "python3"
  },
  "language_info": {
   "codemirror_mode": {
    "name": "ipython",
    "version": 3
   },
   "file_extension": ".py",
   "mimetype": "text/x-python",
   "name": "python",
   "nbconvert_exporter": "python",
   "pygments_lexer": "ipython3",
   "version": "3.12.9"
  }
 },
 "nbformat": 4,
 "nbformat_minor": 5
}
